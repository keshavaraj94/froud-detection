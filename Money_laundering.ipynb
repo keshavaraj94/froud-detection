{
 "cells": [
  {
   "cell_type": "code",
   "execution_count": 1,
   "id": "2a05fc00-f8bf-4976-b5b8-3f891de63d8b",
   "metadata": {},
   "outputs": [],
   "source": [
    "import os\n",
    "import numpy as np\n",
    "import pandas as pd\n",
    "import matplotlib.pyplot as plt\n",
    "%matplotlib inline\n",
    "import seaborn as sns\n",
    "sns.set()\n",
    "import warnings\n",
    "warnings.filterwarnings(\"ignore\")"
   ]
  },
  {
   "cell_type": "code",
   "execution_count": 2,
   "id": "4212de33-e0d9-41d2-a863-9d481ab544d1",
   "metadata": {},
   "outputs": [],
   "source": [
    "df=pd.read_csv('Money Laundering.csv')"
   ]
  },
  {
   "cell_type": "code",
   "execution_count": 3,
   "id": "5e58c09f-68c9-4bd2-823a-53da4b4c855f",
   "metadata": {},
   "outputs": [
    {
     "data": {
      "text/html": [
       "<div>\n",
       "<style scoped>\n",
       "    .dataframe tbody tr th:only-of-type {\n",
       "        vertical-align: middle;\n",
       "    }\n",
       "\n",
       "    .dataframe tbody tr th {\n",
       "        vertical-align: top;\n",
       "    }\n",
       "\n",
       "    .dataframe thead th {\n",
       "        text-align: right;\n",
       "    }\n",
       "</style>\n",
       "<table border=\"1\" class=\"dataframe\">\n",
       "  <thead>\n",
       "    <tr style=\"text-align: right;\">\n",
       "      <th></th>\n",
       "      <th>step</th>\n",
       "      <th>type</th>\n",
       "      <th>amount</th>\n",
       "      <th>nameOrig</th>\n",
       "      <th>oldbalanceOrg</th>\n",
       "      <th>newbalanceOrig</th>\n",
       "      <th>nameDest</th>\n",
       "      <th>oldbalanceDest</th>\n",
       "      <th>newbalanceDest</th>\n",
       "      <th>isFraud</th>\n",
       "      <th>isFlaggedFraud</th>\n",
       "    </tr>\n",
       "  </thead>\n",
       "  <tbody>\n",
       "    <tr>\n",
       "      <th>0</th>\n",
       "      <td>1</td>\n",
       "      <td>PAYMENT</td>\n",
       "      <td>9839.64</td>\n",
       "      <td>C1231006815</td>\n",
       "      <td>170136.0</td>\n",
       "      <td>160296.36</td>\n",
       "      <td>M1979787155</td>\n",
       "      <td>0.0</td>\n",
       "      <td>0.0</td>\n",
       "      <td>0</td>\n",
       "      <td>0</td>\n",
       "    </tr>\n",
       "    <tr>\n",
       "      <th>1</th>\n",
       "      <td>1</td>\n",
       "      <td>PAYMENT</td>\n",
       "      <td>1864.28</td>\n",
       "      <td>C1666544295</td>\n",
       "      <td>21249.0</td>\n",
       "      <td>19384.72</td>\n",
       "      <td>M2044282225</td>\n",
       "      <td>0.0</td>\n",
       "      <td>0.0</td>\n",
       "      <td>0</td>\n",
       "      <td>0</td>\n",
       "    </tr>\n",
       "    <tr>\n",
       "      <th>2</th>\n",
       "      <td>1</td>\n",
       "      <td>TRANSFER</td>\n",
       "      <td>181.00</td>\n",
       "      <td>C1305486145</td>\n",
       "      <td>181.0</td>\n",
       "      <td>0.00</td>\n",
       "      <td>C553264065</td>\n",
       "      <td>0.0</td>\n",
       "      <td>0.0</td>\n",
       "      <td>1</td>\n",
       "      <td>0</td>\n",
       "    </tr>\n",
       "    <tr>\n",
       "      <th>3</th>\n",
       "      <td>1</td>\n",
       "      <td>CASH_OUT</td>\n",
       "      <td>181.00</td>\n",
       "      <td>C840083671</td>\n",
       "      <td>181.0</td>\n",
       "      <td>0.00</td>\n",
       "      <td>C38997010</td>\n",
       "      <td>21182.0</td>\n",
       "      <td>0.0</td>\n",
       "      <td>1</td>\n",
       "      <td>0</td>\n",
       "    </tr>\n",
       "    <tr>\n",
       "      <th>4</th>\n",
       "      <td>1</td>\n",
       "      <td>PAYMENT</td>\n",
       "      <td>11668.14</td>\n",
       "      <td>C2048537720</td>\n",
       "      <td>41554.0</td>\n",
       "      <td>29885.86</td>\n",
       "      <td>M1230701703</td>\n",
       "      <td>0.0</td>\n",
       "      <td>0.0</td>\n",
       "      <td>0</td>\n",
       "      <td>0</td>\n",
       "    </tr>\n",
       "  </tbody>\n",
       "</table>\n",
       "</div>"
      ],
      "text/plain": [
       "   step      type    amount     nameOrig  oldbalanceOrg  newbalanceOrig  \\\n",
       "0     1   PAYMENT   9839.64  C1231006815       170136.0       160296.36   \n",
       "1     1   PAYMENT   1864.28  C1666544295        21249.0        19384.72   \n",
       "2     1  TRANSFER    181.00  C1305486145          181.0            0.00   \n",
       "3     1  CASH_OUT    181.00   C840083671          181.0            0.00   \n",
       "4     1   PAYMENT  11668.14  C2048537720        41554.0        29885.86   \n",
       "\n",
       "      nameDest  oldbalanceDest  newbalanceDest  isFraud  isFlaggedFraud  \n",
       "0  M1979787155             0.0             0.0        0               0  \n",
       "1  M2044282225             0.0             0.0        0               0  \n",
       "2   C553264065             0.0             0.0        1               0  \n",
       "3    C38997010         21182.0             0.0        1               0  \n",
       "4  M1230701703             0.0             0.0        0               0  "
      ]
     },
     "execution_count": 3,
     "metadata": {},
     "output_type": "execute_result"
    }
   ],
   "source": [
    "df.head()"
   ]
  },
  {
   "cell_type": "code",
   "execution_count": 4,
   "id": "ae9eba6c-5456-4a91-936d-39615a3d75b5",
   "metadata": {},
   "outputs": [
    {
     "name": "stdout",
     "output_type": "stream",
     "text": [
      "<class 'pandas.core.frame.DataFrame'>\n",
      "RangeIndex: 6362620 entries, 0 to 6362619\n",
      "Data columns (total 11 columns):\n",
      " #   Column          Dtype  \n",
      "---  ------          -----  \n",
      " 0   step            int64  \n",
      " 1   type            object \n",
      " 2   amount          float64\n",
      " 3   nameOrig        object \n",
      " 4   oldbalanceOrg   float64\n",
      " 5   newbalanceOrig  float64\n",
      " 6   nameDest        object \n",
      " 7   oldbalanceDest  float64\n",
      " 8   newbalanceDest  float64\n",
      " 9   isFraud         int64  \n",
      " 10  isFlaggedFraud  int64  \n",
      "dtypes: float64(5), int64(3), object(3)\n",
      "memory usage: 534.0+ MB\n"
     ]
    }
   ],
   "source": [
    "df.info()"
   ]
  },
  {
   "cell_type": "code",
   "execution_count": 6,
   "id": "ed545af7-b15a-4de7-85b7-abc5bbea6131",
   "metadata": {},
   "outputs": [
    {
     "data": {
      "text/plain": [
       "step              0\n",
       "type              0\n",
       "amount            0\n",
       "nameOrig          0\n",
       "oldbalanceOrg     0\n",
       "newbalanceOrig    0\n",
       "nameDest          0\n",
       "oldbalanceDest    0\n",
       "newbalanceDest    0\n",
       "isFraud           0\n",
       "isFlaggedFraud    0\n",
       "dtype: int64"
      ]
     },
     "execution_count": 6,
     "metadata": {},
     "output_type": "execute_result"
    }
   ],
   "source": [
    "df.isnull().sum()"
   ]
  },
  {
   "cell_type": "code",
   "execution_count": null,
   "id": "7c83bbb9-7556-4c6c-bb37-6b76bd117c94",
   "metadata": {},
   "outputs": [],
   "source": []
  },
  {
   "cell_type": "code",
   "execution_count": 7,
   "id": "c1c05e3d-5506-4f46-8e3a-38f637b5c7d0",
   "metadata": {},
   "outputs": [],
   "source": [
    "df.drop(['nameOrig','nameDest'],axis=1,inplace=True)"
   ]
  },
  {
   "cell_type": "code",
   "execution_count": 8,
   "id": "df2501a5-d30a-4849-9026-1215c3f933cd",
   "metadata": {},
   "outputs": [
    {
     "data": {
      "text/plain": [
       "type\n",
       "CASH_OUT    2237500\n",
       "PAYMENT     2151495\n",
       "CASH_IN     1399284\n",
       "TRANSFER     532909\n",
       "DEBIT         41432\n",
       "Name: count, dtype: int64"
      ]
     },
     "execution_count": 8,
     "metadata": {},
     "output_type": "execute_result"
    }
   ],
   "source": [
    "df.type.value_counts()"
   ]
  },
  {
   "cell_type": "code",
   "execution_count": 9,
   "id": "274db7d0-b6e6-422c-ab8f-40a253dafef9",
   "metadata": {},
   "outputs": [
    {
     "data": {
      "text/plain": [
       "<Axes: xlabel='type', ylabel='count'>"
      ]
     },
     "execution_count": 9,
     "metadata": {},
     "output_type": "execute_result"
    },
    {
     "data": {
      "image/png": "[encoded data removed]",
      "text/plain": [
       "<Figure size 640x480 with 1 Axes>"
      ]
     },
     "metadata": {},
     "output_type": "display_data"
    }
   ],
   "source": [
    "sns.countplot(x='type',data=df)"
   ]
  },
  {
   "cell_type": "code",
   "execution_count": 10,
   "id": "49ff4a02-f17c-4ef4-a718-afc6aba0a2e6",
   "metadata": {},
   "outputs": [],
   "source": [
    "df['type']=df['type'].astype('category')\n",
    "df['type']=df['type'].cat.codes"
   ]
  },
  {
   "cell_type": "code",
   "execution_count": 11,
   "id": "a9827808-4167-4216-9420-c82e21ab76ee",
   "metadata": {},
   "outputs": [
    {
     "data": {
      "text/plain": [
       "type\n",
       "1    2237500\n",
       "3    2151495\n",
       "0    1399284\n",
       "4     532909\n",
       "2      41432\n",
       "Name: count, dtype: int64"
      ]
     },
     "execution_count": 11,
     "metadata": {},
     "output_type": "execute_result"
    }
   ],
   "source": [
    "df.type.value_counts()"
   ]
  },
  {
   "cell_type": "code",
   "execution_count": 12,
   "id": "2b5956a0-dfbb-43ea-aee6-ab23d50050e5",
   "metadata": {},
   "outputs": [
    {
     "data": {
      "text/plain": [
       "step\n",
       "19     51352\n",
       "18     49579\n",
       "187    49083\n",
       "235    47491\n",
       "307    46968\n",
       "       ...  \n",
       "432        4\n",
       "706        4\n",
       "693        4\n",
       "112        2\n",
       "662        2\n",
       "Name: count, Length: 743, dtype: int64"
      ]
     },
     "execution_count": 12,
     "metadata": {},
     "output_type": "execute_result"
    }
   ],
   "source": [
    "df.step.value_counts()"
   ]
  },
  {
   "cell_type": "code",
   "execution_count": 13,
   "id": "fb8f9604-11fe-4f6e-bebb-4c5bfb3c0fc7",
   "metadata": {},
   "outputs": [
    {
     "data": {
      "text/plain": [
       "<Axes: xlabel='step', ylabel='count'>"
      ]
     },
     "execution_count": 13,
     "metadata": {},
     "output_type": "execute_result"
    },
    {
     "data": {
      "image/png": "[encoded data removed]",
      "text/plain": [
       "<Figure size 640x480 with 1 Axes>"
      ]
     },
     "metadata": {},
     "output_type": "display_data"
    }
   ],
   "source": [
    "sns.countplot(x='step',data=df)"
   ]
  },
  {
   "cell_type": "code",
   "execution_count": 14,
   "id": "0e79b2f5-eda2-41db-8564-3aa625ddd417",
   "metadata": {},
   "outputs": [
    {
     "data": {
      "text/plain": [
       "isFlaggedFraud\n",
       "0    6362604\n",
       "1         16\n",
       "Name: count, dtype: int64"
      ]
     },
     "execution_count": 14,
     "metadata": {},
     "output_type": "execute_result"
    }
   ],
   "source": [
    "df.isFlaggedFraud.value_counts()"
   ]
  },
  {
   "cell_type": "code",
   "execution_count": 15,
   "id": "9a9cc5c9-c28a-4746-9fed-f6469ab0112d",
   "metadata": {},
   "outputs": [
    {
     "data": {
      "text/plain": [
       "<Axes: xlabel='isFlaggedFraud', ylabel='count'>"
      ]
     },
     "execution_count": 15,
     "metadata": {},
     "output_type": "execute_result"
    },
    {
     "data": {
      "image/png": "[encoded data removed]",
      "text/plain": [
       "<Figure size 640x480 with 1 Axes>"
      ]
     },
     "metadata": {},
     "output_type": "display_data"
    }
   ],
   "source": [
    "sns.countplot(x='isFlaggedFraud',data=df)"
   ]
  },
  {
   "cell_type": "code",
   "execution_count": 16,
   "id": "add53723-659c-4d56-a084-2b75a7ac2962",
   "metadata": {},
   "outputs": [
    {
     "data": {
      "text/plain": [
       "isFraud\n",
       "0    6354407\n",
       "1       8213\n",
       "Name: count, dtype: int64"
      ]
     },
     "execution_count": 16,
     "metadata": {},
     "output_type": "execute_result"
    }
   ],
   "source": [
    "df.isFraud.value_counts()"
   ]
  },
  {
   "cell_type": "code",
   "execution_count": 17,
   "id": "ab52ea46-678a-4adb-a290-f510e2c5fe66",
   "metadata": {},
   "outputs": [
    {
     "data": {
      "text/plain": [
       "<Axes: xlabel='isFraud', ylabel='count'>"
      ]
     },
     "execution_count": 17,
     "metadata": {},
     "output_type": "execute_result"
    },
    {
     "data": {
      "image/png": "[encoded data removed]",
      "text/plain": [
       "<Figure size 640x480 with 1 Axes>"
      ]
     },
     "metadata": {},
     "output_type": "display_data"
    }
   ],
   "source": [
    "sns.countplot(x='isFraud',data=df)"
   ]
  },
  {
   "cell_type": "code",
   "execution_count": 18,
   "id": "cbb7ba5b-6e36-4ad3-bc13-f229cf428d6b",
   "metadata": {},
   "outputs": [
    {
     "name": "stdout",
     "output_type": "stream",
     "text": [
      "<class 'pandas.core.frame.DataFrame'>\n",
      "RangeIndex: 6362620 entries, 0 to 6362619\n",
      "Data columns (total 9 columns):\n",
      " #   Column          Dtype  \n",
      "---  ------          -----  \n",
      " 0   step            int64  \n",
      " 1   type            int8   \n",
      " 2   amount          float64\n",
      " 3   oldbalanceOrg   float64\n",
      " 4   newbalanceOrig  float64\n",
      " 5   oldbalanceDest  float64\n",
      " 6   newbalanceDest  float64\n",
      " 7   isFraud         int64  \n",
      " 8   isFlaggedFraud  int64  \n",
      "dtypes: float64(5), int64(3), int8(1)\n",
      "memory usage: 394.4 MB\n"
     ]
    }
   ],
   "source": [
    "df.info()"
   ]
  },
  {
   "cell_type": "code",
   "execution_count": 19,
   "id": "8c5f7e5f-83cb-4433-ba93-a8bf01a2cd50",
   "metadata": {},
   "outputs": [
    {
     "data": {
      "image/png": "[encoded data removed]",
      "text/plain": [
       "<Figure size 800x600 with 2 Axes>"
      ]
     },
     "metadata": {},
     "output_type": "display_data"
    }
   ],
   "source": [
    "#multi- coreelation \n",
    "corr_matrix = df.corr()\n",
    "\n",
    "# Set up the matplotlib figure\n",
    "plt.figure(figsize=(8, 6))\n",
    "\n",
    "# Draw the heatmap\n",
    "sns.heatmap(corr_matrix, annot=True, cmap='coolwarm', center=0)\n",
    "\n",
    "# Add title and labels\n",
    "plt.title('Correlation Matrix')\n",
    "plt.show()"
   ]
  },
  {
   "cell_type": "code",
   "execution_count": 20,
   "id": "7f191615-f1e5-4e88-8b52-ee073ad85831",
   "metadata": {},
   "outputs": [
    {
     "name": "stdout",
     "output_type": "stream",
     "text": [
      "***************************************** step ************************************************\n",
      "\n",
      "{1, 2, 3, 4, 5, 6, 7, 8, 9, 10, 11, 12, 13, 14, 15, 16, 17, 18, 19, 20, 21, 22, 23, 24, 25, 26, 27, 28, 29, 30, 31, 32, 33, 34, 35, 36, 37, 38, 39, 40, 41, 42, 43, 44, 45, 46, 47, 48, 49, 50, 51, 52, 53, 54, 55, 56, 57, 58, 59, 60, 61, 62, 63, 64, 65, 66, 67, 68, 69, 70, 71, 72, 73, 74, 75, 76, 77, 78, 79, 80, 81, 82, 83, 84, 85, 86, 87, 88, 89, 90, 91, 92, 93, 94, 95, 96, 97, 98, 99, 100, 101, 102, 103, 104, 105, 106, 107, 108, 109, 110, 111, 112, 113, 114, 115, 116, 117, 118, 119, 120, 121, 122, 123, 124, 125, 126, 127, 128, 129, 130, 131, 132, 133, 134, 135, 136, 137, 138, 139, 140, 141, 142, 143, 144, 145, 146, 147, 148, 149, 150, 151, 152, 153, 154, 155, 156, 157, 158, 159, 160, 161, 162, 163, 164, 165, 166, 167, 168, 169, 170, 171, 172, 173, 174, 175, 176, 177, 178, 179, 180, 181, 182, 183, 184, 185, 186, 187, 188, 189, 190, 191, 192, 193, 194, 195, 196, 197, 198, 199, 200, 201, 202, 203, 204, 205, 206, 207, 208, 209, 210, 211, 212, 213, 214, 215, 216, 217, 218, 219, 220, 221, 222, 223, 224, 225, 226, 227, 228, 229, 230, 231, 232, 233, 234, 235, 236, 237, 238, 239, 240, 241, 242, 243, 244, 245, 246, 247, 248, 249, 250, 251, 252, 253, 254, 255, 256, 257, 258, 259, 260, 261, 262, 263, 264, 265, 266, 267, 268, 269, 270, 271, 272, 273, 274, 275, 276, 277, 278, 279, 280, 281, 282, 283, 284, 285, 286, 287, 288, 289, 290, 291, 292, 293, 294, 295, 296, 297, 298, 299, 300, 301, 302, 303, 304, 305, 306, 307, 308, 309, 310, 311, 312, 313, 314, 315, 316, 317, 318, 319, 320, 321, 322, 323, 324, 325, 326, 327, 328, 329, 330, 331, 332, 333, 334, 335, 336, 337, 338, 339, 340, 341, 342, 343, 344, 345, 346, 347, 348, 349, 350, 351, 352, 353, 354, 355, 356, 357, 358, 359, 360, 361, 362, 363, 364, 365, 366, 367, 368, 369, 370, 371, 372, 373, 374, 375, 376, 377, 378, 379, 380, 381, 382, 383, 384, 385, 386, 387, 388, 389, 390, 391, 392, 393, 394, 395, 396, 397, 398, 399, 400, 401, 402, 403, 404, 405, 406, 407, 408, 409, 410, 411, 412, 413, 414, 415, 416, 417, 418, 419, 420, 421, 422, 423, 424, 425, 426, 427, 428, 429, 430, 431, 432, 433, 434, 435, 436, 437, 438, 439, 440, 441, 442, 443, 444, 445, 446, 447, 448, 449, 450, 451, 452, 453, 454, 455, 456, 457, 458, 459, 460, 461, 462, 463, 464, 465, 466, 467, 468, 469, 470, 471, 472, 473, 474, 475, 476, 477, 478, 479, 480, 481, 482, 483, 484, 485, 486, 487, 488, 489, 490, 491, 492, 493, 494, 495, 496, 497, 498, 499, 500, 501, 502, 503, 504, 505, 506, 507, 508, 509, 510, 511, 512, 513, 514, 515, 516, 517, 518, 519, 520, 521, 522, 523, 524, 525, 526, 527, 528, 529, 530, 531, 532, 533, 534, 535, 536, 537, 538, 539, 540, 541, 542, 543, 544, 545, 546, 547, 548, 549, 550, 551, 552, 553, 554, 555, 556, 557, 558, 559, 560, 561, 562, 563, 564, 565, 566, 567, 568, 569, 570, 571, 572, 573, 574, 575, 576, 577, 578, 579, 580, 581, 582, 583, 584, 585, 586, 587, 588, 589, 590, 591, 592, 593, 594, 595, 596, 597, 598, 599, 600, 601, 602, 603, 604, 605, 606, 607, 608, 609, 610, 611, 612, 613, 614, 615, 616, 617, 618, 619, 620, 621, 622, 623, 624, 625, 626, 627, 628, 629, 630, 631, 632, 633, 634, 635, 636, 637, 638, 639, 640, 641, 642, 643, 644, 645, 646, 647, 648, 649, 650, 651, 652, 653, 654, 655, 656, 657, 658, 659, 660, 661, 662, 663, 664, 665, 666, 667, 668, 669, 670, 671, 672, 673, 674, 675, 676, 677, 678, 679, 680, 681, 682, 683, 684, 685, 686, 687, 688, 689, 690, 691, 692, 693, 694, 695, 696, 697, 698, 699, 700, 701, 702, 703, 704, 705, 706, 707, 708, 709, 710, 711, 712, 713, 714, 715, 716, 717, 718, 719, 720, 721, 722, 723, 724, 725, 726, 727, 728, 729, 730, 731, 732, 733, 734, 735, 736, 737, 738, 739, 740, 741, 742, 743}\n",
      "\n",
      "***************************************** type ************************************************\n",
      "\n",
      "{0, 1, 2, 3, 4}\n",
      "\n",
      "***************************************** amount ************************************************\n",
      "\n"
     ]
    },
    {
     "name": "stderr",
     "output_type": "stream",
     "text": [
      "IOPub data rate exceeded.\n",
      "The Jupyter server will temporarily stop sending output\n",
      "to the client in order to avoid crashing it.\n",
      "To change this limit, set the config variable\n",
      "`--ServerApp.iopub_data_rate_limit`.\n",
      "\n",
      "Current values:\n",
      "ServerApp.iopub_data_rate_limit=1000000.0 (bytes/sec)\n",
      "ServerApp.rate_limit_window=3.0 (secs)\n",
      "\n"
     ]
    },
    {
     "name": "stdout",
     "output_type": "stream",
     "text": [
      "{0, 1}\n",
      "\n"
     ]
    }
   ],
   "source": [
    "for i in df.columns:\n",
    "    print(\"*****************************************\", i ,\n",
    "         \"************************************************\")\n",
    "    print()\n",
    "    print(set(df[i].tolist()))\n",
    "    print()"
   ]
  },
  {
   "cell_type": "code",
   "execution_count": 21,
   "id": "d7d658b1-d1f1-4b1f-8a75-ec10fca53014",
   "metadata": {},
   "outputs": [],
   "source": [
    "x=df.drop(['isFraud'],axis=1)\n",
    "y=df[['isFraud']]   "
   ]
  },
  {
   "cell_type": "code",
   "execution_count": 22,
   "id": "3858475e-b155-4ed6-9073-2e6cb3f6a712",
   "metadata": {},
   "outputs": [
    {
     "data": {
      "text/html": [
       "<div>\n",
       "<style scoped>\n",
       "    .dataframe tbody tr th:only-of-type {\n",
       "        vertical-align: middle;\n",
       "    }\n",
       "\n",
       "    .dataframe tbody tr th {\n",
       "        vertical-align: top;\n",
       "    }\n",
       "\n",
       "    .dataframe thead th {\n",
       "        text-align: right;\n",
       "    }\n",
       "</style>\n",
       "<table border=\"1\" class=\"dataframe\">\n",
       "  <thead>\n",
       "    <tr style=\"text-align: right;\">\n",
       "      <th></th>\n",
       "      <th>step</th>\n",
       "      <th>type</th>\n",
       "      <th>amount</th>\n",
       "      <th>oldbalanceOrg</th>\n",
       "      <th>newbalanceOrig</th>\n",
       "      <th>oldbalanceDest</th>\n",
       "      <th>newbalanceDest</th>\n",
       "      <th>isFlaggedFraud</th>\n",
       "    </tr>\n",
       "  </thead>\n",
       "  <tbody>\n",
       "    <tr>\n",
       "      <th>0</th>\n",
       "      <td>1</td>\n",
       "      <td>3</td>\n",
       "      <td>9839.64</td>\n",
       "      <td>170136.0</td>\n",
       "      <td>160296.36</td>\n",
       "      <td>0.0</td>\n",
       "      <td>0.0</td>\n",
       "      <td>0</td>\n",
       "    </tr>\n",
       "    <tr>\n",
       "      <th>1</th>\n",
       "      <td>1</td>\n",
       "      <td>3</td>\n",
       "      <td>1864.28</td>\n",
       "      <td>21249.0</td>\n",
       "      <td>19384.72</td>\n",
       "      <td>0.0</td>\n",
       "      <td>0.0</td>\n",
       "      <td>0</td>\n",
       "    </tr>\n",
       "    <tr>\n",
       "      <th>2</th>\n",
       "      <td>1</td>\n",
       "      <td>4</td>\n",
       "      <td>181.00</td>\n",
       "      <td>181.0</td>\n",
       "      <td>0.00</td>\n",
       "      <td>0.0</td>\n",
       "      <td>0.0</td>\n",
       "      <td>0</td>\n",
       "    </tr>\n",
       "    <tr>\n",
       "      <th>3</th>\n",
       "      <td>1</td>\n",
       "      <td>1</td>\n",
       "      <td>181.00</td>\n",
       "      <td>181.0</td>\n",
       "      <td>0.00</td>\n",
       "      <td>21182.0</td>\n",
       "      <td>0.0</td>\n",
       "      <td>0</td>\n",
       "    </tr>\n",
       "    <tr>\n",
       "      <th>4</th>\n",
       "      <td>1</td>\n",
       "      <td>3</td>\n",
       "      <td>11668.14</td>\n",
       "      <td>41554.0</td>\n",
       "      <td>29885.86</td>\n",
       "      <td>0.0</td>\n",
       "      <td>0.0</td>\n",
       "      <td>0</td>\n",
       "    </tr>\n",
       "  </tbody>\n",
       "</table>\n",
       "</div>"
      ],
      "text/plain": [
       "   step  type    amount  oldbalanceOrg  newbalanceOrig  oldbalanceDest  \\\n",
       "0     1     3   9839.64       170136.0       160296.36             0.0   \n",
       "1     1     3   1864.28        21249.0        19384.72             0.0   \n",
       "2     1     4    181.00          181.0            0.00             0.0   \n",
       "3     1     1    181.00          181.0            0.00         21182.0   \n",
       "4     1     3  11668.14        41554.0        29885.86             0.0   \n",
       "\n",
       "   newbalanceDest  isFlaggedFraud  \n",
       "0             0.0               0  \n",
       "1             0.0               0  \n",
       "2             0.0               0  \n",
       "3             0.0               0  \n",
       "4             0.0               0  "
      ]
     },
     "execution_count": 22,
     "metadata": {},
     "output_type": "execute_result"
    }
   ],
   "source": [
    "x.head()"
   ]
  },
  {
   "cell_type": "code",
   "execution_count": 23,
   "id": "a5ce2f6b-4ce7-41ed-83bd-bbd68820a936",
   "metadata": {},
   "outputs": [
    {
     "data": {
      "text/html": [
       "<div>\n",
       "<style scoped>\n",
       "    .dataframe tbody tr th:only-of-type {\n",
       "        vertical-align: middle;\n",
       "    }\n",
       "\n",
       "    .dataframe tbody tr th {\n",
       "        vertical-align: top;\n",
       "    }\n",
       "\n",
       "    .dataframe thead th {\n",
       "        text-align: right;\n",
       "    }\n",
       "</style>\n",
       "<table border=\"1\" class=\"dataframe\">\n",
       "  <thead>\n",
       "    <tr style=\"text-align: right;\">\n",
       "      <th></th>\n",
       "      <th>isFraud</th>\n",
       "    </tr>\n",
       "  </thead>\n",
       "  <tbody>\n",
       "    <tr>\n",
       "      <th>0</th>\n",
       "      <td>0</td>\n",
       "    </tr>\n",
       "    <tr>\n",
       "      <th>1</th>\n",
       "      <td>0</td>\n",
       "    </tr>\n",
       "    <tr>\n",
       "      <th>2</th>\n",
       "      <td>1</td>\n",
       "    </tr>\n",
       "    <tr>\n",
       "      <th>3</th>\n",
       "      <td>1</td>\n",
       "    </tr>\n",
       "    <tr>\n",
       "      <th>4</th>\n",
       "      <td>0</td>\n",
       "    </tr>\n",
       "  </tbody>\n",
       "</table>\n",
       "</div>"
      ],
      "text/plain": [
       "   isFraud\n",
       "0        0\n",
       "1        0\n",
       "2        1\n",
       "3        1\n",
       "4        0"
      ]
     },
     "execution_count": 23,
     "metadata": {},
     "output_type": "execute_result"
    }
   ],
   "source": [
    "y.head()"
   ]
  },
  {
   "cell_type": "code",
   "execution_count": 24,
   "id": "627cf2ec-9c7f-4d39-9d06-9c479475e537",
   "metadata": {},
   "outputs": [],
   "source": [
    "x1=x.copy()"
   ]
  },
  {
   "cell_type": "code",
   "execution_count": 25,
   "id": "afdcac42-3a6d-410e-af6b-c1c5209b6c88",
   "metadata": {},
   "outputs": [
    {
     "data": {
      "text/plain": [
       "isFraud\n",
       "0          99.870918\n",
       "1           0.129082\n",
       "Name: count, dtype: float64"
      ]
     },
     "execution_count": 25,
     "metadata": {},
     "output_type": "execute_result"
    }
   ],
   "source": [
    "y.value_counts()/len(y)*100"
   ]
  },
  {
   "cell_type": "code",
   "execution_count": 26,
   "id": "4567b0d5-2fd0-49ef-a79c-de2524e8a795",
   "metadata": {},
   "outputs": [
    {
     "data": {
      "text/plain": [
       "isFraud\n",
       "0          6354407\n",
       "1             8213\n",
       "Name: count, dtype: int64"
      ]
     },
     "execution_count": 26,
     "metadata": {},
     "output_type": "execute_result"
    }
   ],
   "source": [
    "y.value_counts()"
   ]
  },
  {
   "cell_type": "code",
   "execution_count": 27,
   "id": "79b9893c-0311-44a7-be86-8033e3e0dc2f",
   "metadata": {},
   "outputs": [
    {
     "name": "stdout",
     "output_type": "stream",
     "text": [
      "Number of Zero : 6354407\n",
      "Number of One : 8213\n"
     ]
    },
    {
     "data": {
      "image/png": "[encoded data removed]",
      "text/plain": [
       "<Figure size 640x480 with 1 Axes>"
      ]
     },
     "metadata": {},
     "output_type": "display_data"
    }
   ],
   "source": [
    "#IMBALANCE CHECK\n",
    "sns.countplot(data=y, x='isFraud')\n",
    "Zero, One = df['isFraud'].value_counts()\n",
    "print(\"Number of Zero :\", Zero)\n",
    "print(\"Number of One :\", One)\n",
    "plt.show()"
   ]
  },
  {
   "cell_type": "code",
   "execution_count": 28,
   "id": "0879975c-938c-42b9-9311-375e6c68a965",
   "metadata": {},
   "outputs": [
    {
     "name": "stdout",
     "output_type": "stream",
     "text": [
      "Counter({'isFraud': 1})\n"
     ]
    }
   ],
   "source": [
    "import imblearn\n",
    "from imblearn.over_sampling import RandomOverSampler\n",
    "from collections import Counter\n",
    "print(Counter(y))"
   ]
  },
  {
   "cell_type": "code",
   "execution_count": 29,
   "id": "ffc35fca-4f88-4ea8-aaf2-d630e313e28e",
   "metadata": {},
   "outputs": [
    {
     "name": "stdout",
     "output_type": "stream",
     "text": [
      "Counter({'isFraud': 1})\n"
     ]
    }
   ],
   "source": [
    "ros = RandomOverSampler()\n",
    "x_ros, y_ros = ros.fit_resample(x, y)\n",
    "print(Counter(y_ros))"
   ]
  },
  {
   "cell_type": "code",
   "execution_count": 30,
   "id": "2ee75959-98a4-44c4-92ae-f10b571cfc42",
   "metadata": {},
   "outputs": [
    {
     "name": "stdout",
     "output_type": "stream",
     "text": [
      "isFraud\n",
      "0          6354407\n",
      "1             8213\n",
      "Name: count, dtype: int64\n",
      "\n",
      "isFraud\n",
      "0          6354407\n",
      "1          6354407\n",
      "Name: count, dtype: int64\n"
     ]
    }
   ],
   "source": [
    "print(y.value_counts())\n",
    "print()\n",
    "print(y_ros.value_counts())"
   ]
  },
  {
   "cell_type": "code",
   "execution_count": 31,
   "id": "39fe8b2b-070c-4850-9ed7-64c207d8dd65",
   "metadata": {},
   "outputs": [],
   "source": [
    "from sklearn.preprocessing import StandardScaler\n",
    "x_scaled = StandardScaler()\n",
    "x_scaled = x_scaled.fit_transform(x_ros)\n",
    "x_scaled = pd.DataFrame(x_scaled, columns=x.columns)\n",
    "y=y_ros"
   ]
  },
  {
   "cell_type": "code",
   "execution_count": 32,
   "id": "b1ce0c6e-45da-4934-a7cb-1be2a66030db",
   "metadata": {},
   "outputs": [
    {
     "data": {
      "text/html": [
       "<div>\n",
       "<style scoped>\n",
       "    .dataframe tbody tr th:only-of-type {\n",
       "        vertical-align: middle;\n",
       "    }\n",
       "\n",
       "    .dataframe tbody tr th {\n",
       "        vertical-align: top;\n",
       "    }\n",
       "\n",
       "    .dataframe thead th {\n",
       "        text-align: right;\n",
       "    }\n",
       "</style>\n",
       "<table border=\"1\" class=\"dataframe\">\n",
       "  <thead>\n",
       "    <tr style=\"text-align: right;\">\n",
       "      <th></th>\n",
       "      <th>step</th>\n",
       "      <th>type</th>\n",
       "      <th>amount</th>\n",
       "      <th>oldbalanceOrg</th>\n",
       "      <th>newbalanceOrig</th>\n",
       "      <th>oldbalanceDest</th>\n",
       "      <th>newbalanceDest</th>\n",
       "      <th>isFlaggedFraud</th>\n",
       "    </tr>\n",
       "  </thead>\n",
       "  <tbody>\n",
       "    <tr>\n",
       "      <th>0</th>\n",
       "      <td>-1.575786</td>\n",
       "      <td>0.604432</td>\n",
       "      <td>-0.435616</td>\n",
       "      <td>-0.328742</td>\n",
       "      <td>-0.144854</td>\n",
       "      <td>-0.244802</td>\n",
       "      <td>-0.331622</td>\n",
       "      <td>-0.031279</td>\n",
       "    </tr>\n",
       "    <tr>\n",
       "      <th>1</th>\n",
       "      <td>-1.575786</td>\n",
       "      <td>0.604432</td>\n",
       "      <td>-0.439888</td>\n",
       "      <td>-0.374443</td>\n",
       "      <td>-0.200969</td>\n",
       "      <td>-0.244802</td>\n",
       "      <td>-0.331622</td>\n",
       "      <td>-0.031279</td>\n",
       "    </tr>\n",
       "    <tr>\n",
       "      <th>2</th>\n",
       "      <td>-1.575786</td>\n",
       "      <td>1.280210</td>\n",
       "      <td>-0.440789</td>\n",
       "      <td>-0.380910</td>\n",
       "      <td>-0.208689</td>\n",
       "      <td>-0.244802</td>\n",
       "      <td>-0.331622</td>\n",
       "      <td>-0.031279</td>\n",
       "    </tr>\n",
       "    <tr>\n",
       "      <th>3</th>\n",
       "      <td>-1.575786</td>\n",
       "      <td>-0.747123</td>\n",
       "      <td>-0.440789</td>\n",
       "      <td>-0.380910</td>\n",
       "      <td>-0.208689</td>\n",
       "      <td>-0.238493</td>\n",
       "      <td>-0.331622</td>\n",
       "      <td>-0.031279</td>\n",
       "    </tr>\n",
       "    <tr>\n",
       "      <th>4</th>\n",
       "      <td>-1.575786</td>\n",
       "      <td>0.604432</td>\n",
       "      <td>-0.434636</td>\n",
       "      <td>-0.368210</td>\n",
       "      <td>-0.196787</td>\n",
       "      <td>-0.244802</td>\n",
       "      <td>-0.331622</td>\n",
       "      <td>-0.031279</td>\n",
       "    </tr>\n",
       "    <tr>\n",
       "      <th>...</th>\n",
       "      <td>...</td>\n",
       "      <td>...</td>\n",
       "      <td>...</td>\n",
       "      <td>...</td>\n",
       "      <td>...</td>\n",
       "      <td>...</td>\n",
       "      <td>...</td>\n",
       "      <td>...</td>\n",
       "    </tr>\n",
       "    <tr>\n",
       "      <th>12708809</th>\n",
       "      <td>1.432645</td>\n",
       "      <td>1.280210</td>\n",
       "      <td>-0.111254</td>\n",
       "      <td>-0.192068</td>\n",
       "      <td>-0.208689</td>\n",
       "      <td>-0.244802</td>\n",
       "      <td>-0.331622</td>\n",
       "      <td>-0.031279</td>\n",
       "    </tr>\n",
       "    <tr>\n",
       "      <th>12708810</th>\n",
       "      <td>1.303417</td>\n",
       "      <td>1.280210</td>\n",
       "      <td>0.732573</td>\n",
       "      <td>0.291493</td>\n",
       "      <td>-0.208689</td>\n",
       "      <td>-0.244802</td>\n",
       "      <td>-0.331622</td>\n",
       "      <td>-0.031279</td>\n",
       "    </tr>\n",
       "    <tr>\n",
       "      <th>12708811</th>\n",
       "      <td>-1.281146</td>\n",
       "      <td>1.280210</td>\n",
       "      <td>-0.196235</td>\n",
       "      <td>-0.240767</td>\n",
       "      <td>-0.208689</td>\n",
       "      <td>-0.244802</td>\n",
       "      <td>-0.331622</td>\n",
       "      <td>-0.031279</td>\n",
       "    </tr>\n",
       "    <tr>\n",
       "      <th>12708812</th>\n",
       "      <td>0.057657</td>\n",
       "      <td>1.280210</td>\n",
       "      <td>-0.440622</td>\n",
       "      <td>-0.380814</td>\n",
       "      <td>-0.208689</td>\n",
       "      <td>-0.244802</td>\n",
       "      <td>-0.331622</td>\n",
       "      <td>-0.031279</td>\n",
       "    </tr>\n",
       "    <tr>\n",
       "      <th>12708813</th>\n",
       "      <td>1.303417</td>\n",
       "      <td>-0.747123</td>\n",
       "      <td>-0.328493</td>\n",
       "      <td>-0.316558</td>\n",
       "      <td>-0.208689</td>\n",
       "      <td>-0.244802</td>\n",
       "      <td>-0.276013</td>\n",
       "      <td>-0.031279</td>\n",
       "    </tr>\n",
       "  </tbody>\n",
       "</table>\n",
       "<p>12708814 rows × 8 columns</p>\n",
       "</div>"
      ],
      "text/plain": [
       "              step      type    amount  oldbalanceOrg  newbalanceOrig  \\\n",
       "0        -1.575786  0.604432 -0.435616      -0.328742       -0.144854   \n",
       "1        -1.575786  0.604432 -0.439888      -0.374443       -0.200969   \n",
       "2        -1.575786  1.280210 -0.440789      -0.380910       -0.208689   \n",
       "3        -1.575786 -0.747123 -0.440789      -0.380910       -0.208689   \n",
       "4        -1.575786  0.604432 -0.434636      -0.368210       -0.196787   \n",
       "...            ...       ...       ...            ...             ...   \n",
       "12708809  1.432645  1.280210 -0.111254      -0.192068       -0.208689   \n",
       "12708810  1.303417  1.280210  0.732573       0.291493       -0.208689   \n",
       "12708811 -1.281146  1.280210 -0.196235      -0.240767       -0.208689   \n",
       "12708812  0.057657  1.280210 -0.440622      -0.380814       -0.208689   \n",
       "12708813  1.303417 -0.747123 -0.328493      -0.316558       -0.208689   \n",
       "\n",
       "          oldbalanceDest  newbalanceDest  isFlaggedFraud  \n",
       "0              -0.244802       -0.331622       -0.031279  \n",
       "1              -0.244802       -0.331622       -0.031279  \n",
       "2              -0.244802       -0.331622       -0.031279  \n",
       "3              -0.238493       -0.331622       -0.031279  \n",
       "4              -0.244802       -0.331622       -0.031279  \n",
       "...                  ...             ...             ...  \n",
       "12708809       -0.244802       -0.331622       -0.031279  \n",
       "12708810       -0.244802       -0.331622       -0.031279  \n",
       "12708811       -0.244802       -0.331622       -0.031279  \n",
       "12708812       -0.244802       -0.331622       -0.031279  \n",
       "12708813       -0.244802       -0.276013       -0.031279  \n",
       "\n",
       "[12708814 rows x 8 columns]"
      ]
     },
     "execution_count": 32,
     "metadata": {},
     "output_type": "execute_result"
    }
   ],
   "source": [
    "x_scaled"
   ]
  },
  {
   "cell_type": "code",
   "execution_count": 33,
   "id": "2dc14610-72fe-4fb9-accf-c99d7ed3598d",
   "metadata": {},
   "outputs": [],
   "source": [
    "#from sklearn.decomposition import PCA"
   ]
  },
  {
   "cell_type": "markdown",
   "id": "69a3bb12-c57a-4988-8746-9ac0698a68a9",
   "metadata": {},
   "source": [
    "pca = PCA(0.95)\n",
    "x_pca = pca.fit_transform(x_scaled)\n",
    "print(x.shape)\n",
    "print(x_pca.shape)"
   ]
  },
  {
   "cell_type": "code",
   "execution_count": 35,
   "id": "eac42f87-9d7b-480e-83bd-71e91a936d8b",
   "metadata": {},
   "outputs": [],
   "source": [
    "# Split the data into training and test for model building\n",
    "from sklearn.model_selection import train_test_split\n",
    "x_train, x_test, y_train, y_test = train_test_split(x_scaled, y, test_size=0.2, random_state=101)"
   ]
  },
  {
   "cell_type": "code",
   "execution_count": 36,
   "id": "bbb20524-dcc6-43c8-a922-43918d825e67",
   "metadata": {},
   "outputs": [],
   "source": [
    "from sklearn.linear_model import LogisticRegression\n",
    "from sklearn.tree import DecisionTreeClassifier\n",
    "from sklearn.ensemble import RandomForestClassifier\n",
    "from sklearn.ensemble import BaggingClassifier\n",
    "from sklearn.ensemble import AdaBoostClassifier\n",
    "from sklearn.ensemble import GradientBoostingClassifier\n",
    "from xgboost import XGBClassifier\n",
    "from sklearn.svm import SVC\n",
    "from sklearn.neighbors import KNeighborsClassifier\n",
    "from sklearn.naive_bayes import GaussianNB\n",
    "from sklearn.naive_bayes import BernoulliNB\n",
    "\n",
    "from sklearn.ensemble import VotingClassifier\n",
    "\n",
    "from sklearn.metrics import confusion_matrix, classification_report, accuracy_score"
   ]
  },
  {
   "cell_type": "code",
   "execution_count": null,
   "id": "db0c60ff-f410-42bb-9cc2-a48331941b59",
   "metadata": {},
   "outputs": [],
   "source": [
    "# Applying all the model together\n",
    "\n",
    "# LogisticRegression\n",
    "logistic = LogisticRegression()\n",
    "lr = logistic.fit(x_train, y_train)\n",
    "y_pred_lr = logistic.predict(x_test)\n",
    "accuracy_lr = accuracy_score(y_test, y_pred_lr)\n",
    "\n",
    "# DecisionTree\n",
    "dtree = DecisionTreeClassifier()\n",
    "dt = dtree.fit(x_train, y_train)\n",
    "y_pred_dt = dtree.predict(x_test)\n",
    "accuracy_dt = accuracy_score(y_test, y_pred_dt)\n",
    "\n",
    "# RandomForest\n",
    "rfmodel = RandomForestClassifier()\n",
    "rf = rfmodel.fit(x_train, y_train)\n",
    "y_pred_rf = rfmodel.predict(x_test)\n",
    "accuracy_rf = accuracy_score(y_test, y_pred_rf)\n",
    "\n",
    "# BaggingClassifier\n",
    "bagg = BaggingClassifier()\n",
    "bg = bagg.fit(x_train, y_train)\n",
    "y_pred_bg = bagg.predict(x_test)\n",
    "accuracy_bg = accuracy_score(y_test, y_pred_bg)\n",
    "\n",
    "# AdaBoostClassifier\n",
    "ada = AdaBoostClassifier()\n",
    "ad = ada.fit(x_train, y_train)\n",
    "y_pred_ad = ada.predict(x_test)\n",
    "accuracy_ad = accuracy_score(y_test, y_pred_ad)\n",
    "\n",
    "# GradientBoostingClassifier\n",
    "gdb = GradientBoostingClassifier()\n",
    "gd = gdb.fit(x_train, y_train)\n",
    "y_pred_gd = gdb.predict(x_test)\n",
    "accuracy_gd = accuracy_score(y_test, y_pred_gd)\n",
    "\n",
    "# XGBClassifier = RF + GDBoosting - lambda - regularisation, gamma - autoprunning, eta - learning optimization rate\n",
    "xgb = XGBClassifier()\n",
    "xg = xgb.fit(x_train, y_train)\n",
    "y_pred_xg = xgb.predict(x_test)\n",
    "accuracy_xg = accuracy_score(y_test, y_pred_xg)\n",
    "\n",
    "\n",
    "# SVM\n",
    "svc = SVC()\n",
    "sv = svc.fit(x_train, y_train)\n",
    "y_pred_sv = svc.predict(x_test)\n",
    "accuracy_sv = accuracy_score(y_test, y_pred_sv)             \n",
    "                             \n",
    "                             \n",
    "# KNN\n",
    "knn = KNeighborsClassifier()\n",
    "kn = knn.fit(x_train, y_train)\n",
    "y_pred_knn = knn.predict(x_test)\n",
    "accuracy_knn = accuracy_score(y_test, y_pred_knn)\n",
    "\n",
    "# GaussianNB\n",
    "naive_gb = GaussianNB()\n",
    "ngb = naive_gb.fit(x_train, y_train)\n",
    "y_pred_ngb = naive_gb.predict(x_test)\n",
    "accuracy_ngb = accuracy_score(y_test, y_pred_ngb) \n",
    "\n",
    "# BernoulliNB\n",
    "naive_bn = BernoulliNB()\n",
    "nbr = naive_bn.fit(x_train, y_train)\n",
    "y_pred_nbr = naive_bn.predict(x_test)\n",
    "accuracy_nbr = accuracy_score(y_test, y_pred_nbr) "
   ]
  },
  {
   "cell_type": "code",
   "execution_count": null,
   "id": "108c9c47-4409-4107-9a2a-afc88afacc2c",
   "metadata": {},
   "outputs": [],
   "source": [
    "from sklearn.ensemble import VotingClassifier\n",
    "from sklearn.ensemble import StackingClassifier"
   ]
  },
  {
   "cell_type": "code",
   "execution_count": null,
   "id": "41d0756b-25f7-4291-8139-4528f11f53f6",
   "metadata": {},
   "outputs": [],
   "source": [
    "evc = VotingClassifier(estimators=[('lr',lr),('dt',dt),('rf', rf),('bg', bg),('ad',ad),\n",
    "                                  ('gd', gd),('xg', xg),('sv', sv),('kn', kn),\n",
    "                                  ('ngb', ngb),('nbr', nbr)], voting='hard')\n",
    "\n",
    "model_evc = evc.fit(x_train, y_train)\n",
    "pred_evc = evc.predict(x_test)\n",
    "accuracy_evc = accuracy_score(y_test, pred_evc)"
   ]
  },
  {
   "cell_type": "code",
   "execution_count": null,
   "id": "746389f7-454a-4edd-983b-23b7aec715bc",
   "metadata": {},
   "outputs": [],
   "source": [
    "list1 = ['LogisticRegression','DecisionTree','RandomForest','Bagging','Adaboost',\n",
    "         'GradientBoosting', 'XGBoost','SupportVector','KNearestNeighbors',\n",
    "         'NaiveBayesGaussian','NaiveBayesBernoullies','VotingClassifier']\n",
    "\n",
    "list2 = [accuracy_lr, accuracy_dt, accuracy_rf, accuracy_bg,accuracy_ad, accuracy_gd, \n",
    "         accuracy_xg, accuracy_sv, accuracy_knn, accuracy_ngb, accuracy_nbr, accuracy_evc]\n",
    "\n",
    "list3 = [logistic, dtree, rfmodel, bagg, ada, gdb, xgb, svc, knn, naive_gb,naive_bn, evc ]\n",
    "\n",
    "final_accuracy = pd.DataFrame({'Method Used': list1, \"Accuracy\": list2})\n",
    "print(final_accuracy)\n",
    "\n",
    "charts = sns.barplot(x=\"Method Used\", y = 'Accuracy', data=final_accuracy)\n",
    "charts.set_xticklabels(charts.get_xticklabels(), rotation=90)\n",
    "print(charts)"
   ]
  },
  {
   "cell_type": "code",
   "execution_count": null,
   "id": "42bd2a4b-ab89-4b23-9bc2-353056aa8c73",
   "metadata": {},
   "outputs": [],
   "source": [
    "# RANDOMFOREST CLASSIFIER\n",
    "rfmodel = RandomForestClassifier()\n",
    "rf = rfmodel.fit(x_train, y_train)\n",
    "y_pred_rf_train = rf.predict(x_train)\n",
    "y_pred_rf_test = rf.predict(x_test)\n",
    "accuracy_rf_test = accuracy_score(y_test, y_pred_rf_test)\n",
    "accuracy_rf_train = accuracy_score(y_train, y_pred_rf_train)\n",
    "print(accuracy_rf_train)\n",
    "print()\n",
    "print(accuracy_rf_test)\n",
    "print('*********************')\n",
    "classification_rf_test = classification_report(y_test, y_pred_rf_test)\n",
    "classification_rf_train = classification_report(y_train, y_pred_rf_train)\n",
    "print(classification_rf_train)\n",
    "print()\n",
    "print(classification_rf_test)\n",
    "print('*********************')\n",
    "confusion_rf_test = confusion_matrix(y_test, y_pred_rf_test)\n",
    "confusion_rf_train = confusion_matrix(y_train, y_pred_rf_train)\n",
    "print(confusion_rf_train)\n",
    "print()\n",
    "print(confusion_rf_test)\n"
   ]
  },
  {
   "cell_type": "code",
   "execution_count": null,
   "id": "e94913e0-06b1-4fcc-a516-a57904437772",
   "metadata": {},
   "outputs": [],
   "source": [
    "# GRADING BOOSTING CLASSIFIER\n",
    "gdb = GradientBoostingClassifier()\n",
    "gd = gdb.fit(x_train, y_train)\n",
    "y_pred_gd_train = gdb.predict(x_train)\n",
    "y_pred_gd_test = gdb.predict(x_test)\n",
    "accuracy_gd_test = accuracy_score(y_test, y_pred_gd_test)\n",
    "accuracy_gd_train = accuracy_score(y_train, y_pred_gd_train)\n",
    "print(accuracy_gd_train)\n",
    "print()\n",
    "print(accuracy_gd_test)\n",
    "print('*********************')\n",
    "classification_gd_test = classification_report(y_test, y_pred_gd_test)\n",
    "classification_gd_train = classification_report(y_train, y_pred_gd_train)\n",
    "print(classification_gd_train)\n",
    "print()\n",
    "print(classification_gd_test)\n",
    "print('*********************')\n",
    "confusion_gd_test = confusion_matrix(y_test, y_pred_gd_test)\n",
    "confusion_gd_train = confusion_matrix(y_train, y_pred_gd_train)\n",
    "print(confusion_gd_train)\n",
    "print()\n",
    "print(confusion_gd_test)\n"
   ]
  },
  {
   "cell_type": "code",
   "execution_count": null,
   "id": "94910d9e-ff99-4d7e-af64-19637dee83d3",
   "metadata": {},
   "outputs": [],
   "source": [
    "from sklearn.model_selection import cross_val_score\n",
    "training_accuracy = cross_val_score(rf, x_train, y_train, cv=10)\n",
    "test_accuracy = cross_val_score(rf, x_test, y_test, cv=10)\n",
    "print(training_accuracy)\n",
    "print(test_accuracy)"
   ]
  },
  {
   "cell_type": "code",
   "execution_count": null,
   "id": "9183935f-ef98-4436-90dc-4d8518df1690",
   "metadata": {},
   "outputs": [],
   "source": []
  },
  {
   "cell_type": "code",
   "execution_count": null,
   "id": "56760a42-2724-48c4-baa1-6a6a5e667c5e",
   "metadata": {},
   "outputs": [],
   "source": []
  },
  {
   "cell_type": "code",
   "execution_count": null,
   "id": "a4d1fb2c-17e8-4d9b-9e16-94da9c4809dd",
   "metadata": {},
   "outputs": [],
   "source": []
  },
  {
   "cell_type": "code",
   "execution_count": null,
   "id": "b698ab2a-ec1c-40e1-a6c7-5729a55c8cfb",
   "metadata": {},
   "outputs": [],
   "source": []
  },
  {
   "cell_type": "code",
   "execution_count": null,
   "id": "f2f48b70-113f-49d7-bcc6-590aa718feda",
   "metadata": {},
   "outputs": [],
   "source": []
  },
  {
   "cell_type": "code",
   "execution_count": null,
   "id": "d187bb97-02e3-4f2b-a9fb-6e71bacf1840",
   "metadata": {},
   "outputs": [],
   "source": []
  },
  {
   "cell_type": "code",
   "execution_count": null,
   "id": "1db6ed3e-77c6-487b-a397-54462ff255cf",
   "metadata": {},
   "outputs": [],
   "source": []
  },
  {
   "cell_type": "code",
   "execution_count": null,
   "id": "60c1fceb-2867-4c47-aac7-c42f8c1f3c82",
   "metadata": {},
   "outputs": [],
   "source": []
  },
  {
   "cell_type": "code",
   "execution_count": null,
   "id": "26383544-827c-44c4-b7aa-9cd77af9243e",
   "metadata": {},
   "outputs": [],
   "source": []
  },
  {
   "cell_type": "code",
   "execution_count": null,
   "id": "05053be0-3310-4b2c-9104-d992f1429204",
   "metadata": {},
   "outputs": [],
   "source": []
  },
  {
   "cell_type": "code",
   "execution_count": null,
   "id": "2c34f442-7a28-4d01-b2e8-683347289eb8",
   "metadata": {},
   "outputs": [],
   "source": []
  },
  {
   "cell_type": "code",
   "execution_count": null,
   "id": "b1e88020-d815-4c34-b57d-93b976f97f1c",
   "metadata": {},
   "outputs": [],
   "source": []
  },
  {
   "cell_type": "code",
   "execution_count": null,
   "id": "10f2741c-19e8-4bb0-96e9-a88aa0c2450e",
   "metadata": {},
   "outputs": [],
   "source": []
  },
  {
   "cell_type": "code",
   "execution_count": null,
   "id": "540c3e9a-56ae-434c-bc67-d92b05d95b4d",
   "metadata": {},
   "outputs": [],
   "source": []
  },
  {
   "cell_type": "code",
   "execution_count": null,
   "id": "f5c5250f-b859-4527-a7f2-6b6534c45b5c",
   "metadata": {},
   "outputs": [],
   "source": []
  },
  {
   "cell_type": "code",
   "execution_count": null,
   "id": "10cc0b03-9167-413f-9ba9-3d52c08c383e",
   "metadata": {},
   "outputs": [],
   "source": []
  }
 ],
 "metadata": {
  "kernelspec": {
   "display_name": "Python 3 (ipykernel)",
   "language": "python",
   "name": "python3"
  },
  "language_info": {
   "codemirror_mode": {
    "name": "ipython",
    "version": 3
   },
   "file_extension": ".py",
   "mimetype": "text/x-python",
   "name": "python",
   "nbconvert_exporter": "python",
   "pygments_lexer": "ipython3",
   "version": "3.11.7"
  }
 },
 "nbformat": 4,
 "nbformat_minor": 5
}
